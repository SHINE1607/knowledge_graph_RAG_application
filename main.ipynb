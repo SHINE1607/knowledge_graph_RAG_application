{
 "cells": [
  {
   "cell_type": "markdown",
   "metadata": {},
   "source": [
    "### Content workflow\n",
    "1. Loading and preprocessing the data\n",
    "2. Initializing a language model and extracting a knowledge graph\n",
    "3. Storing the knowledge graph in a database for persistence and querying.\n",
    "4. Retrieving relevant knowledge from the graph based on user queries.\n",
    "5. Generating responses by synthesizing the retrieved knowledge with the language model.\n"
   ]
  },
  {
   "cell_type": "markdown",
   "metadata": {},
   "source": [
    "#### importing  librairies"
   ]
  },
  {
   "cell_type": "code",
   "execution_count": 96,
   "metadata": {},
   "outputs": [
    {
     "data": {
      "text/plain": [
       "True"
      ]
     },
     "execution_count": 96,
     "metadata": {},
     "output_type": "execute_result"
    }
   ],
   "source": [
    "\n",
    "import os\n",
    "\n",
    "from langchain.document_loaders import TextLoader\n",
    "from langchain.text_splitter import CharacterTextSplitter\n",
    "from langchain.llms import OpenAI\n",
    "from langchain_openai import ChatOpenAI\n",
    "from langchain_experimental.graph_transformers import LLMGraphTransformer\n",
    "from dotenv import load_dotenv\n",
    "\n",
    "from llama_index.core import KnowledgeGraphIndex, SimpleDirectoryReader\n",
    "\n",
    "load_dotenv()\n"
   ]
  },
  {
   "cell_type": "markdown",
   "metadata": {},
   "source": [
    "#### Loading the text document"
   ]
  },
  {
   "cell_type": "code",
   "execution_count": 81,
   "metadata": {},
   "outputs": [],
   "source": [
    "\n",
    "# Load text data\n",
    "\n",
    "loader = TextLoader(\"./text.txt\")\n",
    "documents = loader.load()\n",
    "\n",
    "text_splitter = CharacterTextSplitter(chunk_size=200, chunk_overlap=20)\n",
    "texts = text_splitter.split_documents(documents)\n"
   ]
  },
  {
   "cell_type": "code",
   "execution_count": 82,
   "metadata": {},
   "outputs": [],
   "source": [
    "# defining the llm transformer model and the graph model object \n",
    "llm = ChatOpenAI(temperature=0, model_name=\"gpt-4-turbo\")\n",
    "llm_transformer = LLMGraphTransformer(llm=llm)\n",
    "\n",
    "\n",
    "graph_documents = llm_transformer.convert_to_graph_documents(texts)"
   ]
  },
  {
   "cell_type": "code",
   "execution_count": 83,
   "metadata": {},
   "outputs": [
    {
     "name": "stdout",
     "output_type": "stream",
     "text": [
      "Nodes: [Node(id='Sarah', type='Person'), Node(id='Prismaticai', type='Company'), Node(id='Michael', type='Person')]\n",
      "Edges: [Relationship(source=Node(id='Sarah', type='Person'), target=Node(id='Prismaticai', type='Company'), type='EMPLOYEE'), Relationship(source=Node(id='Michael', type='Person'), target=Node(id='Prismaticai', type='Company'), type='EMPLOYEE')]\n"
     ]
    }
   ],
   "source": [
    "print(f\"Nodes: {graph_documents[0].nodes}\")\n",
    "print(f\"Edges: {graph_documents[0].relationships}\")"
   ]
  },
  {
   "cell_type": "markdown",
   "metadata": {},
   "source": [
    "#### Store knowledge graph in a database"
   ]
  },
  {
   "cell_type": "code",
   "execution_count": 97,
   "metadata": {},
   "outputs": [],
   "source": [
    "from langchain_community.graphs import Neo4jGraph\n",
    "\n",
    "url = os.environ[\"NEO4J_URL\"]\n",
    "username = os.environ[\"NEO_4J_USERNAME\"]\n",
    "password = os.environ[\"NEO_4J_PASSWORD\"]\n",
    "\n",
    "graph_store = Neo4jGraph(url=url, username=username, password=password)\n",
    "\n",
    "\n",
    "graph_store.add_graph_documents(graph_documents)"
   ]
  },
  {
   "cell_type": "code",
   "execution_count": 89,
   "metadata": {},
   "outputs": [
    {
     "data": {
      "text/plain": [
       "[]"
      ]
     },
     "execution_count": 89,
     "metadata": {},
     "output_type": "execute_result"
    }
   ],
   "source": [
    "#### Inserting new information to the graph\n",
    "graph_store.query(\n",
    "    \"\"\"\n",
    "    MERGE (m:Movie {title:\"Top Gun\"})\n",
    "    WITH m\n",
    "    UNWIND [\"Tom Cruise\", \"Val Kilmer\", \"Anthony Edwards\", \"Meg Ryan\"] AS actor\n",
    "    MERGE (a:Actor {name:actor})\n",
    "    MERGE (a)-[:ACTED_IN]->(m)\n",
    "    \"\"\"\n",
    ")"
   ]
  },
  {
   "cell_type": "markdown",
   "metadata": {},
   "source": [
    "#### Quering and retrieving data from the graph store"
   ]
  },
  {
   "cell_type": "code",
   "execution_count": 94,
   "metadata": {},
   "outputs": [
    {
     "name": "stdout",
     "output_type": "stream",
     "text": [
      "\n",
      "\n",
      "\u001b[1m> Entering new GraphCypherQAChain chain...\u001b[0m\n",
      "Generated Cypher:\n",
      "\u001b[32;1m\u001b[1;3mMATCH (p:Person {id: 'Sarah'})-[:EMPLOYEE]->(c:Company)\n",
      "RETURN c;\u001b[0m\n",
      "Full Context:\n",
      "\u001b[32;1m\u001b[1;3m[{'c': {'id': 'Prismaticai'}}]\u001b[0m\n",
      "\n",
      "\u001b[1m> Finished chain.\u001b[0m\n"
     ]
    },
    {
     "data": {
      "text/plain": [
       "'Sarah works at Prismaticai.'"
      ]
     },
     "execution_count": 94,
     "metadata": {},
     "output_type": "execute_result"
    }
   ],
   "source": [
    "from langchain.chains import GraphCypherQAChain\n",
    "chain = GraphCypherQAChain.from_llm(\n",
    "    ChatOpenAI(temperature=0), graph=graph_store, verbose=True\n",
    ")\n",
    "\n",
    "# chain.run(\"Where does Sarah works?\")\n",
    "chain.run(\"Where does Sarah works?\")"
   ]
  },
  {
   "cell_type": "code",
   "execution_count": null,
   "metadata": {},
   "outputs": [],
   "source": []
  }
 ],
 "metadata": {
  "kernelspec": {
   "display_name": "development",
   "language": "python",
   "name": "python3"
  },
  "language_info": {
   "codemirror_mode": {
    "name": "ipython",
    "version": 3
   },
   "file_extension": ".py",
   "mimetype": "text/x-python",
   "name": "python",
   "nbconvert_exporter": "python",
   "pygments_lexer": "ipython3",
   "version": "3.12.5"
  }
 },
 "nbformat": 4,
 "nbformat_minor": 2
}
